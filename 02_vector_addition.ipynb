{
 "cells": [
  {
   "cell_type": "markdown",
   "id": "17f11aed-ad87-4894-8603-12ea04b208e5",
   "metadata": {},
   "source": [
    "# Vector addition with triton\n",
    "\n",
    "Source: [Triton docs vector addition](https://triton-lang.org/main/getting-started/tutorials/01-vector-add.html#sphx-glr-getting-started-tutorials-01-vector-add-py)\n",
    "\n",
    "Let's put together a basic kernel with Triton (following an example in the documentation linked above).\n",
    "\n",
    "We can use Triton to launch a 1-d grid of blocks, and use the blocks to add 2 vectors.  We write a python function to launch the kernel (`add`), and the kernel itself (`add_kernel`).  The kernel will operate on a single thread block of size `1024` (`32 x 32`).\n",
    "\n",
    "First, the python wrapper:\n",
    "\n",
    "1. We allocate the output vector first, since we need to pass the pointer into the triton func.\n",
    "2. `grid = lambda meta: (triton.cdiv(n_elements, meta[\"BLOCK_SIZE\"]),)` creates a 1-d launch grid, with the number of thread blocks being `ceil(n_elements / 1024)`\n",
    "3. We then call `add_kernel`, indexed with the grid. `add_kernel` does the main work."
   ]
  },
  {
   "cell_type": "code",
   "execution_count": 21,
   "id": "c4516a4f-0131-4d71-b69f-5dff77014ff5",
   "metadata": {},
   "outputs": [],
   "source": [
    "import torch\n",
    "\n",
    "import triton\n",
    "import triton.language as tl\n",
    "\n",
    "def add(x, y):\n",
    "    output = torch.empty_like(x)\n",
    "    n_elements = output.numel()\n",
    "    \n",
    "    grid = lambda meta: (triton.cdiv(n_elements, meta[\"BLOCK_SIZE\"]),)\n",
    "    \n",
    "    add_kernel[grid](x, y, output, n_elements, BLOCK_SIZE=1024)\n",
    "    \n",
    "    return output"
   ]
  },
  {
   "cell_type": "markdown",
   "id": "a84005cd-d312-4358-9b1c-83ebc55bd0f0",
   "metadata": {},
   "source": [
    "Then, the kernel.  `triton.jit` will compile the kernel.  Remember that the kernel operates on a single thread block:\n",
    "\n",
    "1. The kernel receives pointers to the first element in each vector, not the data itself.  We need to use the pointers to load the relevant data\n",
    "2. Use `tl.constexpr` to pass the constant block size into the kernel (we need this to load the right amount of data)\n",
    "3. Get the block id using `tl.program_id`.  You could also call `tl.num_programs` to see how many thread blocks are running\n",
    "4. We find the start index for the data that will be processed by this block with `block_start`\n",
    "5. Ue [`tl.arange`](https://triton-lang.org/main/python-api/generated/triton.language.arange.html#triton.language.arange) and offsets to specify all `1024` data elements per vector that this block will process\n",
    "6. We need the mask to avoid accessing elements that don't exist (remember that we did `ceil(n_elements / 1024)` to find the block count, so the last block not be processing `1024` elements).\n",
    "7. Load the x and y data elements we'll need.\n",
    "8. Add everything using individual threads in the block, and assign to `output`.\n",
    "9. Store the data we processed into the output pointer."
   ]
  },
  {
   "cell_type": "code",
   "execution_count": 22,
   "id": "9d8c39e3-c05e-44f7-9dd4-b1005d203d7d",
   "metadata": {},
   "outputs": [],
   "source": [
    "@triton.jit\n",
    "def add_kernel(\n",
    "    x_ptr,\n",
    "    y_ptr,\n",
    "    output_ptr,\n",
    "    n_elements,\n",
    "    BLOCK_SIZE: tl.constexpr\n",
    "):\n",
    "    pid = tl.program_id(axis=0)\n",
    "    block_start = pid * BLOCK_SIZE # the first index of the data we'll need for the block\n",
    "    \n",
    "    offsets = block_start + tl.arange(0, BLOCK_SIZE) # all data the block will process\n",
    "    mask = offsets < n_elements # don't try to load any data after n_elements (block size * block count > n_elements)\n",
    "\n",
    "    x = tl.load(x_ptr + offsets, mask=mask) # Load the x data\n",
    "    y = tl.load(y_ptr + offsets, mask=mask) # Load the y data\n",
    "    output = x + y # Run the individual threads to add everything\n",
    "    tl.store(output_ptr + offsets, output, mask=mask) # Store the data into the output pointer, use mask to avoid illegal access"
   ]
  },
  {
   "cell_type": "markdown",
   "id": "9c71d11b-5359-401b-95b1-8d46df6dfdb2",
   "metadata": {},
   "source": [
    "We can test if the kernel works by comparing it to just summing the vectors with torch:"
   ]
  },
  {
   "cell_type": "code",
   "execution_count": 24,
   "id": "24bb7976-0187-40c3-8a73-575653e511e9",
   "metadata": {},
   "outputs": [
    {
     "name": "stdout",
     "output_type": "stream",
     "text": [
      "The maximum difference between torch and triton is 0.0\n",
      "tensor([1.3713, 1.3076, 0.4940, 1.2701, 1.2803, 1.1750, 1.1790, 1.4607, 0.3393,\n",
      "        1.2689], device='cuda:0')\n",
      "tensor([1.3713, 1.3076, 0.4940, 1.2701, 1.2803, 1.1750, 1.1790, 1.4607, 0.3393,\n",
      "        1.2689], device='cuda:0')\n"
     ]
    }
   ],
   "source": [
    "torch.manual_seed(0)\n",
    "size = 1000\n",
    "x = torch.rand(size, device='cuda')\n",
    "y = torch.rand(size, device='cuda')\n",
    "output_torch = x + y\n",
    "output_triton = add(x, y)\n",
    "print(\n",
    "    f'The maximum difference between torch and triton is '\n",
    "    f'{torch.max(torch.abs(output_torch - output_triton))}'\n",
    ")\n",
    "print(output_torch[:10])\n",
    "print(output_triton[:10])"
   ]
  },
  {
   "cell_type": "code",
   "execution_count": null,
   "id": "dbaacc02-96fa-4311-b368-4b2ca1c19186",
   "metadata": {},
   "outputs": [],
   "source": []
  }
 ],
 "metadata": {
  "kernelspec": {
   "display_name": "Python 3",
   "language": "python",
   "name": "python3"
  },
  "language_info": {
   "codemirror_mode": {
    "name": "ipython",
    "version": 3
   },
   "file_extension": ".py",
   "mimetype": "text/x-python",
   "name": "python",
   "nbconvert_exporter": "python",
   "pygments_lexer": "ipython3",
   "version": "3.8.10"
  }
 },
 "nbformat": 4,
 "nbformat_minor": 5
}
